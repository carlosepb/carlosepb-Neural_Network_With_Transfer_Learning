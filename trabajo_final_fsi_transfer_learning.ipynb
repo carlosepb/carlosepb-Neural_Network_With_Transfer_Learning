{
 "cells": [
  {
   "cell_type": "markdown",
   "id": "f50c4b99-ab4d-46b1-9eb6-22802c09072d",
   "metadata": {},
   "source": [
    "<h1>Práctica REDES NEURONALES</h1>\n",
    "\n",
    "<p align=\"center\">\n",
    "Esta práctica consiste en la configuración de una red neuronal para realizar un entrenamiento de clasificación de un conjunto de imágenes divido en 5 clases o categorias correspondientes a muebles. Durante los siguientes pasos veremos el avance del entrenamiento además de las comprobaciones que consideramos pertinentes.\n",
    "</p>\n",
    "<p align=\"center\">\n",
    "En nuestro un equipo con la siguiente configuración:\n",
    "    <ul>\n",
    "        <li>CPU -> i7-10870H</li>\n",
    "        <li>GPU -> RTX3070</li>\n",
    "        <li>RAM -> 32GBbs</li>\n",
    "    </ul>  \n",
    "</p>\n",
    "\n",
    "<p align=\"center\">\n",
    "El dataset se compone de 4024 imágenes de entrenamiento y 518 de test divididas en 5 categorias:\n",
    "    <ul>\n",
    "        <li>bed</li>\n",
    "        <li>chair</li>\n",
    "        <li>sofa</li>\n",
    "        <li>swivelchair</li>\n",
    "        <li>table</li>\n",
    "    </ul>  \n",
    "</p>"
   ]
  },
  {
   "cell_type": "markdown",
   "id": "389223d6-c961-4d72-a46f-f7cf6b434434",
   "metadata": {},
   "source": [
    "--------------------------------------------------------------------------------------------------\n",
    "<h2>Comprobación de funcionamiento de la GPU</h2>"
   ]
  },
  {
   "cell_type": "code",
   "execution_count": 1,
   "id": "b9cb31f2-539f-4b04-8ed0-e341e565af33",
   "metadata": {},
   "outputs": [
    {
     "data": {
      "text/plain": [
       "'/device:GPU:0'"
      ]
     },
     "execution_count": 1,
     "metadata": {},
     "output_type": "execute_result"
    }
   ],
   "source": [
    "import tensorflow as tf\n",
    "tf.test.gpu_device_name()"
   ]
  },
  {
   "cell_type": "markdown",
   "id": "a204991b-9d3e-420d-b24f-aff0a33807b2",
   "metadata": {},
   "source": [
    "--------------------------------------------------------------------------------------------------\n",
    "<h2>Comprobación que tenemos acceso al dataset</h2>"
   ]
  },
  {
   "cell_type": "code",
   "execution_count": 7,
   "id": "c7393697-295b-4b6b-ba8c-8239533fc57e",
   "metadata": {},
   "outputs": [
    {
     "name": "stdout",
     "output_type": "stream",
     "text": [
      " El volumen de la unidad C es Windows\n",
      " El número de serie del volumen es: BE92-0ACF\n",
      "\n",
      " Directorio de C:\\Users\\carlo\\Desktop\\RedesNeuronales\\images\n",
      "\n",
      "09/06/2021  15:32    <DIR>          .\n",
      "09/06/2021  15:32    <DIR>          ..\n",
      "09/06/2021  15:32    <DIR>          test\n",
      "09/06/2021  15:32    <DIR>          train\n",
      "               0 archivos              0 bytes\n",
      "               4 dirs  275.223.777.280 bytes libres\n"
     ]
    }
   ],
   "source": [
    "ls \"./Desktop/RedesNeuronales/images\""
   ]
  },
  {
   "cell_type": "markdown",
   "id": "783de08d-a87b-4eac-8d2b-2f1ea369e69b",
   "metadata": {},
   "source": [
    "----------------------------------------------------------------\n",
    "<h2>Tranfer learning</h2>\n",
    "\n",
    "Para intentar mejorar el nivel de acierto de nuestra red neuronal hemos decido aplicar la técnica de Transfer Learning que consiste en utilizar un modelo pre-entrenado que nos permitiría aprovechar la potencia de una red entrenada con un volumen de datos mayor y una configuración superior a la nuestra.\n",
    "\n",
    "Un modelo pre-entrenado es un modelo que fue entrenado con un ingente conjunto de datos de referencia para resolver un problema similar al que queremos abordar. Debido al coste computacional del entrenamiento de tales modelos, así como en la complejidad a la hora de elegir la arquitectura óptima, el Transfer Learning de modelos bien conocidos y precisos se ha convertido es una práctica común (por ejemplo, VGG-16, VGG-19, ResNet-50, SeNet-50, etc.)\n",
    "\n"
   ]
  },
  {
   "cell_type": "code",
   "execution_count": 44,
   "id": "1be0d74e-367c-4561-a9e2-e81a8cf5db5a",
   "metadata": {},
   "outputs": [
    {
     "name": "stdout",
     "output_type": "stream",
     "text": [
      "End Import keras\n"
     ]
    }
   ],
   "source": [
    "# IMPORT KERAS\n",
    "from tensorflow.keras.preprocessing.image import ImageDataGenerator\n",
    "from tensorflow.keras.models import Sequential\n",
    "from tensorflow.keras.layers import Dense, Dropout\n",
    "from tensorflow.keras.optimizers import RMSprop\n",
    "from tensorflow.keras.layers import Dense, Dropout, Flatten\n",
    "from tensorflow.keras.layers import Conv2D, MaxPooling2D\n",
    "from tensorflow.keras.callbacks import EarlyStopping\n",
    "from tensorflow.keras import backend as K\n",
    "import tensorflow.keras\n",
    "from time import time\n",
    "\n",
    "print(\"End Import keras\")"
   ]
  },
  {
   "cell_type": "markdown",
   "id": "a574a30c-161b-420e-9d8f-26fb00b62c18",
   "metadata": {},
   "source": [
    "---\n",
    "<h3>Cargar Dataset</h3>"
   ]
  },
  {
   "cell_type": "code",
   "execution_count": 45,
   "id": "e9e49981-029c-4ffa-b5eb-783bf7d9d15a",
   "metadata": {},
   "outputs": [
    {
     "name": "stdout",
     "output_type": "stream",
     "text": [
      "Found 4024 images belonging to 5 classes.\n",
      "Found 518 images belonging to 5 classes.\n",
      "End Data source\n"
     ]
    }
   ],
   "source": [
    "# DATA SOURCE --------------------------------------------------\n",
    "\n",
    "batch_size = 20\n",
    "\n",
    "train_data_dir = './Desktop/RedesNeuronales/images/train'\n",
    "validation_data_dir = './Desktop/RedesNeuronales/images/test'\n",
    "\n",
    "train_datagen = ImageDataGenerator(\n",
    "        rescale=1./255,\n",
    "        rotation_range=15,\n",
    "        zoom_range=0.1\n",
    ")\n",
    "\n",
    "validation_datagen = ImageDataGenerator(\n",
    "        rescale=1./255\n",
    ")\n",
    "\n",
    "train_generator = train_datagen.flow_from_directory(\n",
    "        train_data_dir,\n",
    "        target_size=(150, 150),\n",
    "        batch_size=batch_size,\n",
    "        class_mode='categorical')\n",
    "\n",
    "validation_generator = validation_datagen.flow_from_directory(\n",
    "        validation_data_dir,\n",
    "        target_size=(150, 150),\n",
    "        batch_size=batch_size,\n",
    "        class_mode='categorical')\n",
    "\n",
    "print(\"End Data source\")"
   ]
  },
  {
   "cell_type": "markdown",
   "id": "2643bb34-b06d-4f4e-a913-a2f5cd797b95",
   "metadata": {},
   "source": [
    "---\n",
    "<h3>Cargar Modelo Preentrenado</h3>\n",
    "\n",
    "En nuestro caso hemos elegido la Red Convolucional VGG16 como modelo pre-entrenado la cual cuenta con un conjunto de mas de 14 millones de imágenes que pertenecen a 1000 clases.\n",
    "En el primer paso configuramos el modelo pre-entrenado al tamaño de las imágenes que hemos establecido en nuestro data set y mostramos un sumario para comprobar las distintas capas de la misma.\n"
   ]
  },
  {
   "cell_type": "code",
   "execution_count": 46,
   "id": "563452f3-9276-4220-be87-80cf627b5dc7",
   "metadata": {},
   "outputs": [],
   "source": [
    "# MODEL --------------------------------------------------\n",
    "from tensorflow.keras.applications import VGG16\n",
    "pre_trained_model = VGG16(input_shape = (150,150,3),\n",
    "                            include_top = False,\n",
    "                            weights = 'imagenet')"
   ]
  },
  {
   "cell_type": "code",
   "execution_count": 47,
   "id": "fcf3f3b1-a775-4397-b2a2-5d2e05bc9eef",
   "metadata": {},
   "outputs": [
    {
     "name": "stdout",
     "output_type": "stream",
     "text": [
      "Model: \"vgg16\"\n",
      "_________________________________________________________________\n",
      "Layer (type)                 Output Shape              Param #   \n",
      "=================================================================\n",
      "input_2 (InputLayer)         [(None, 150, 150, 3)]     0         \n",
      "_________________________________________________________________\n",
      "block1_conv1 (Conv2D)        (None, 150, 150, 64)      1792      \n",
      "_________________________________________________________________\n",
      "block1_conv2 (Conv2D)        (None, 150, 150, 64)      36928     \n",
      "_________________________________________________________________\n",
      "block1_pool (MaxPooling2D)   (None, 75, 75, 64)        0         \n",
      "_________________________________________________________________\n",
      "block2_conv1 (Conv2D)        (None, 75, 75, 128)       73856     \n",
      "_________________________________________________________________\n",
      "block2_conv2 (Conv2D)        (None, 75, 75, 128)       147584    \n",
      "_________________________________________________________________\n",
      "block2_pool (MaxPooling2D)   (None, 37, 37, 128)       0         \n",
      "_________________________________________________________________\n",
      "block3_conv1 (Conv2D)        (None, 37, 37, 256)       295168    \n",
      "_________________________________________________________________\n",
      "block3_conv2 (Conv2D)        (None, 37, 37, 256)       590080    \n",
      "_________________________________________________________________\n",
      "block3_conv3 (Conv2D)        (None, 37, 37, 256)       590080    \n",
      "_________________________________________________________________\n",
      "block3_pool (MaxPooling2D)   (None, 18, 18, 256)       0         \n",
      "_________________________________________________________________\n",
      "block4_conv1 (Conv2D)        (None, 18, 18, 512)       1180160   \n",
      "_________________________________________________________________\n",
      "block4_conv2 (Conv2D)        (None, 18, 18, 512)       2359808   \n",
      "_________________________________________________________________\n",
      "block4_conv3 (Conv2D)        (None, 18, 18, 512)       2359808   \n",
      "_________________________________________________________________\n",
      "block4_pool (MaxPooling2D)   (None, 9, 9, 512)         0         \n",
      "_________________________________________________________________\n",
      "block5_conv1 (Conv2D)        (None, 9, 9, 512)         2359808   \n",
      "_________________________________________________________________\n",
      "block5_conv2 (Conv2D)        (None, 9, 9, 512)         2359808   \n",
      "_________________________________________________________________\n",
      "block5_conv3 (Conv2D)        (None, 9, 9, 512)         2359808   \n",
      "_________________________________________________________________\n",
      "block5_pool (MaxPooling2D)   (None, 4, 4, 512)         0         \n",
      "=================================================================\n",
      "Total params: 14,714,688\n",
      "Trainable params: 14,714,688\n",
      "Non-trainable params: 0\n",
      "_________________________________________________________________\n"
     ]
    }
   ],
   "source": [
    "pre_trained_model.summary()"
   ]
  },
  {
   "cell_type": "markdown",
   "id": "c3dce501-127f-4dd7-a53d-54e987a239bb",
   "metadata": {},
   "source": [
    "------------------------------------------------------------------\n",
    "<h3>Congelar Capas del Modelo Pre-entrenado</h3>\n",
    "\n",
    "En este paso desactivamos las capas del modelo pre-entrenado para evitar sobre escribir la información de estas al realizar nuestro propio entrenamiento."
   ]
  },
  {
   "cell_type": "code",
   "execution_count": 48,
   "id": "2dd2ad36-0ed9-40d6-be4b-1a777344d321",
   "metadata": {},
   "outputs": [],
   "source": [
    "for layer in pre_trained_model.layers:\n",
    "    layer.trainable = False"
   ]
  },
  {
   "cell_type": "markdown",
   "id": "1c430e17-7ff3-4d90-a721-acdcf483dd78",
   "metadata": {},
   "source": [
    "-----\n",
    "<h3>Juntar Nuestro Modelo y El Modelo Pre-entrenado</h3>\n",
    "Agregamos dos capas nuevas fully conected para conectar la salida de las capas congeladas para utilizando las características antiguas conseguir predicciones de nuestro conjunto de datos.\n"
   ]
  },
  {
   "cell_type": "code",
   "execution_count": 49,
   "id": "adb35108-6b9a-4de7-a539-65193e1c0837",
   "metadata": {},
   "outputs": [],
   "source": [
    "modelFE = tensorflow.keras.models.Sequential([\n",
    "    pre_trained_model,\n",
    "    tensorflow.keras.layers.Flatten(),\n",
    "    tensorflow.keras.layers.Dense(128, activation='relu'),\n",
    "    tensorflow.keras.layers.Dense(5, activation='softmax')\n",
    "])\n",
    "\n",
    "modelFE.compile(loss=tensorflow.keras.losses.categorical_crossentropy,\n",
    "              optimizer=tensorflow.keras.optimizers.Adadelta(),\n",
    "              metrics=['accuracy'])"
   ]
  },
  {
   "cell_type": "code",
   "execution_count": 50,
   "id": "be60af75-e163-445e-bd34-93dc0258accb",
   "metadata": {},
   "outputs": [
    {
     "name": "stdout",
     "output_type": "stream",
     "text": [
      "Model: \"sequential_1\"\n",
      "_________________________________________________________________\n",
      "Layer (type)                 Output Shape              Param #   \n",
      "=================================================================\n",
      "vgg16 (Functional)           (None, 4, 4, 512)         14714688  \n",
      "_________________________________________________________________\n",
      "flatten_1 (Flatten)          (None, 8192)              0         \n",
      "_________________________________________________________________\n",
      "dense_2 (Dense)              (None, 128)               1048704   \n",
      "_________________________________________________________________\n",
      "dense_3 (Dense)              (None, 5)                 645       \n",
      "=================================================================\n",
      "Total params: 15,764,037\n",
      "Trainable params: 1,049,349\n",
      "Non-trainable params: 14,714,688\n",
      "_________________________________________________________________\n"
     ]
    }
   ],
   "source": [
    "modelFE.summary()"
   ]
  },
  {
   "cell_type": "markdown",
   "id": "8d4d77cd-8968-4260-a900-1956f728382b",
   "metadata": {},
   "source": [
    "---\n",
    "<h3>Realizar Entrenamiento</h3>"
   ]
  },
  {
   "cell_type": "code",
   "execution_count": 51,
   "id": "ab7ade15-5f90-44c9-9357-42456bfc078a",
   "metadata": {},
   "outputs": [
    {
     "name": "stderr",
     "output_type": "stream",
     "text": [
      "C:\\Users\\carlo\\anaconda3\\envs\\tensorflow25\\lib\\site-packages\\tensorflow\\python\\keras\\engine\\training.py:1940: UserWarning: `Model.fit_generator` is deprecated and will be removed in a future version. Please use `Model.fit`, which supports generators.\n",
      "  warnings.warn('`Model.fit_generator` is deprecated and '\n"
     ]
    },
    {
     "name": "stdout",
     "output_type": "stream",
     "text": [
      "Epoch 1/40\n",
      "200/200 [==============================] - 31s 153ms/step - loss: 1.8063 - accuracy: 0.2568 - val_loss: 1.6000 - val_accuracy: 0.3166\n",
      "Epoch 2/40\n",
      "200/200 [==============================] - 21s 103ms/step - loss: 1.5050 - accuracy: 0.4084 - val_loss: 1.4310 - val_accuracy: 0.3977\n",
      "Epoch 3/40\n",
      "200/200 [==============================] - 21s 104ms/step - loss: 1.3489 - accuracy: 0.4987 - val_loss: 1.3332 - val_accuracy: 0.4961\n",
      "Epoch 4/40\n",
      "200/200 [==============================] - 20s 102ms/step - loss: 1.2529 - accuracy: 0.5560 - val_loss: 1.2543 - val_accuracy: 0.5521\n",
      "Epoch 5/40\n",
      "200/200 [==============================] - 20s 102ms/step - loss: 1.1677 - accuracy: 0.6122 - val_loss: 1.1846 - val_accuracy: 0.5927\n",
      "Epoch 6/40\n",
      "200/200 [==============================] - 21s 103ms/step - loss: 1.0958 - accuracy: 0.6501 - val_loss: 1.1217 - val_accuracy: 0.6255\n",
      "Epoch 7/40\n",
      "200/200 [==============================] - 21s 104ms/step - loss: 1.0339 - accuracy: 0.6872 - val_loss: 1.0642 - val_accuracy: 0.6486\n",
      "Epoch 8/40\n",
      "200/200 [==============================] - 21s 106ms/step - loss: 0.9799 - accuracy: 0.7214 - val_loss: 1.0110 - val_accuracy: 0.6795\n",
      "Epoch 9/40\n",
      "200/200 [==============================] - 20s 101ms/step - loss: 0.9276 - accuracy: 0.7387 - val_loss: 0.9645 - val_accuracy: 0.6988\n",
      "Epoch 10/40\n",
      "200/200 [==============================] - 21s 106ms/step - loss: 0.8809 - accuracy: 0.7520 - val_loss: 0.9194 - val_accuracy: 0.7201\n",
      "Epoch 11/40\n",
      "200/200 [==============================] - 21s 103ms/step - loss: 0.8388 - accuracy: 0.7776 - val_loss: 0.8790 - val_accuracy: 0.7432\n",
      "Epoch 12/40\n",
      "200/200 [==============================] - 21s 103ms/step - loss: 0.7987 - accuracy: 0.7934 - val_loss: 0.8422 - val_accuracy: 0.7529\n",
      "Epoch 13/40\n",
      "200/200 [==============================] - 21s 105ms/step - loss: 0.7639 - accuracy: 0.7987 - val_loss: 0.8076 - val_accuracy: 0.7645\n",
      "Epoch 14/40\n",
      "200/200 [==============================] - 21s 104ms/step - loss: 0.7303 - accuracy: 0.8082 - val_loss: 0.7753 - val_accuracy: 0.7799\n",
      "Epoch 15/40\n",
      "200/200 [==============================] - 21s 105ms/step - loss: 0.6981 - accuracy: 0.8223 - val_loss: 0.7482 - val_accuracy: 0.7838\n",
      "Epoch 16/40\n",
      "200/200 [==============================] - 20s 101ms/step - loss: 0.6741 - accuracy: 0.8271 - val_loss: 0.7206 - val_accuracy: 0.7915\n",
      "Epoch 17/40\n",
      "200/200 [==============================] - 21s 103ms/step - loss: 0.6453 - accuracy: 0.8361 - val_loss: 0.6964 - val_accuracy: 0.8012\n",
      "Epoch 18/40\n",
      "200/200 [==============================] - 20s 101ms/step - loss: 0.6250 - accuracy: 0.8391 - val_loss: 0.6735 - val_accuracy: 0.8127\n",
      "Epoch 19/40\n",
      "200/200 [==============================] - 21s 105ms/step - loss: 0.5991 - accuracy: 0.8527 - val_loss: 0.6531 - val_accuracy: 0.8147\n",
      "Epoch 20/40\n",
      "200/200 [==============================] - 20s 101ms/step - loss: 0.5776 - accuracy: 0.8514 - val_loss: 0.6329 - val_accuracy: 0.8166\n",
      "Epoch 21/40\n",
      "200/200 [==============================] - 21s 103ms/step - loss: 0.5655 - accuracy: 0.8539 - val_loss: 0.6113 - val_accuracy: 0.8205\n",
      "Epoch 22/40\n",
      "200/200 [==============================] - 20s 101ms/step - loss: 0.5406 - accuracy: 0.8665 - val_loss: 0.5933 - val_accuracy: 0.8205\n",
      "Epoch 23/40\n",
      "200/200 [==============================] - 21s 102ms/step - loss: 0.5299 - accuracy: 0.8657 - val_loss: 0.5792 - val_accuracy: 0.8224\n",
      "Epoch 24/40\n",
      "200/200 [==============================] - 20s 100ms/step - loss: 0.5102 - accuracy: 0.8747 - val_loss: 0.5632 - val_accuracy: 0.8320\n",
      "Epoch 25/40\n",
      "200/200 [==============================] - 20s 100ms/step - loss: 0.5008 - accuracy: 0.8765 - val_loss: 0.5483 - val_accuracy: 0.8282\n",
      "Epoch 26/40\n",
      "200/200 [==============================] - 20s 101ms/step - loss: 0.4869 - accuracy: 0.8775 - val_loss: 0.5357 - val_accuracy: 0.8340\n",
      "Epoch 27/40\n",
      "200/200 [==============================] - 20s 101ms/step - loss: 0.4703 - accuracy: 0.8828 - val_loss: 0.5221 - val_accuracy: 0.8359\n",
      "Epoch 28/40\n",
      "200/200 [==============================] - 20s 100ms/step - loss: 0.4562 - accuracy: 0.8870 - val_loss: 0.5098 - val_accuracy: 0.8417\n",
      "Epoch 29/40\n",
      "200/200 [==============================] - 21s 103ms/step - loss: 0.4489 - accuracy: 0.8868 - val_loss: 0.4995 - val_accuracy: 0.8475\n",
      "Epoch 30/40\n",
      "200/200 [==============================] - 21s 105ms/step - loss: 0.4412 - accuracy: 0.8843 - val_loss: 0.4895 - val_accuracy: 0.8552\n",
      "Epoch 31/40\n",
      "200/200 [==============================] - 21s 105ms/step - loss: 0.4279 - accuracy: 0.8933 - val_loss: 0.4782 - val_accuracy: 0.8629\n",
      "Epoch 32/40\n",
      "200/200 [==============================] - 21s 103ms/step - loss: 0.4213 - accuracy: 0.8870 - val_loss: 0.4700 - val_accuracy: 0.8668\n",
      "Epoch 33/40\n",
      "200/200 [==============================] - 21s 106ms/step - loss: 0.4093 - accuracy: 0.8966 - val_loss: 0.4611 - val_accuracy: 0.8707\n",
      "Epoch 34/40\n",
      "200/200 [==============================] - 20s 101ms/step - loss: 0.4022 - accuracy: 0.8968 - val_loss: 0.4519 - val_accuracy: 0.8707\n",
      "Epoch 35/40\n",
      "200/200 [==============================] - 20s 100ms/step - loss: 0.4018 - accuracy: 0.8941 - val_loss: 0.4461 - val_accuracy: 0.8726\n",
      "Epoch 36/40\n",
      "200/200 [==============================] - 20s 102ms/step - loss: 0.3832 - accuracy: 0.8996 - val_loss: 0.4381 - val_accuracy: 0.8745\n",
      "Epoch 37/40\n",
      "200/200 [==============================] - 20s 100ms/step - loss: 0.3809 - accuracy: 0.9016 - val_loss: 0.4314 - val_accuracy: 0.8784\n",
      "Epoch 38/40\n",
      "200/200 [==============================] - 20s 100ms/step - loss: 0.3765 - accuracy: 0.8973 - val_loss: 0.4247 - val_accuracy: 0.8764\n",
      "Epoch 39/40\n",
      "200/200 [==============================] - 20s 101ms/step - loss: 0.3676 - accuracy: 0.9031 - val_loss: 0.4186 - val_accuracy: 0.8822\n",
      "Epoch 40/40\n",
      "200/200 [==============================] - 20s 102ms/step - loss: 0.3599 - accuracy: 0.9079 - val_loss: 0.4116 - val_accuracy: 0.8803\n",
      "End Save\n"
     ]
    }
   ],
   "source": [
    "# TRAINING --------------------------------------------------\n",
    "\n",
    "epochs = 40\n",
    "\n",
    "es = EarlyStopping(monitor='val_accuracy', mode='max', verbose=1, patience=3, restore_best_weights=True)\n",
    "\n",
    "historyFE = modelFE.fit_generator(\n",
    "        train_generator,\n",
    "        validation_data = validation_generator,\n",
    "        steps_per_epoch=200,\n",
    "        epochs=epochs,\n",
    "        callbacks = [es]\n",
    ")\n",
    "\n",
    "\n",
    "# SAVING --------------------------------------------------\n",
    "\n",
    "modelFE.save(\"modeloFE_CEPB_PVL2.h5\")\n",
    "print(\"End Save\")"
   ]
  },
  {
   "cell_type": "markdown",
   "id": "1fdc18b6-6ff5-47d1-8818-4356c6de59a1",
   "metadata": {},
   "source": [
    "---\n",
    "<h3>Gráfica Transfer Learning</h3>\n"
   ]
  },
  {
   "cell_type": "code",
   "execution_count": 52,
   "id": "99924422-6e55-4942-8b78-4cd594465824",
   "metadata": {},
   "outputs": [
    {
     "data": {
      "image/png": "[encoded data removed]",
      "text/plain": [
       "<Figure size 432x288 with 1 Axes>"
      ]
     },
     "metadata": {
      "needs_background": "light"
     },
     "output_type": "display_data"
    },
    {
     "data": {
      "image/png": "[encoded data removed]",
      "text/plain": [
       "<Figure size 432x288 with 1 Axes>"
      ]
     },
     "metadata": {
      "needs_background": "light"
     },
     "output_type": "display_data"
    }
   ],
   "source": [
    "import matplotlib.pyplot as plt\n",
    "\n",
    "plt.plot(historyFE.history['loss'], color='yellow')\n",
    "plt.plot(historyFE.history['val_loss'], color='blue')\n",
    "plt.title('LOSS HISTORY')\n",
    "plt.ylabel('Loss')\n",
    "plt.xlabel('Epoch')\n",
    "plt.legend(['train', 'test'])\n",
    "plt.show()\n",
    "\n",
    "plt.plot(historyFE.history['accuracy'], color='yellow')\n",
    "plt.plot(historyFE.history['val_accuracy'], color='blue')\n",
    "plt.title('ACCURACY HISTORY')\n",
    "plt.ylabel('Accuracy')\n",
    "plt.xlabel('Epoch')\n",
    "plt.legend(['train', 'test'])\n",
    "plt.show()"
   ]
  },
  {
   "cell_type": "markdown",
   "id": "3dbece64-7eb8-4565-a718-f930303f5e54",
   "metadata": {},
   "source": [
    "---\n",
    "<h3>Cargar Conjunto de Datos sin Mezclar</h3>"
   ]
  },
  {
   "cell_type": "code",
   "execution_count": 34,
   "id": "726f3914-0feb-4184-bebe-1a4349a2b236",
   "metadata": {},
   "outputs": [
    {
     "name": "stdout",
     "output_type": "stream",
     "text": [
      "Found 518 images belonging to 5 classes.\n"
     ]
    }
   ],
   "source": [
    "from sklearn.metrics import classification_report\n",
    "from sklearn.metrics import confusion_matrix\n",
    "from sklearn.metrics import ConfusionMatrixDisplay\n",
    "import numpy as np\n",
    "\n",
    "validation_generator = validation_datagen.flow_from_directory(\n",
    "        validation_data_dir,\n",
    "        target_size=(150, 150),\n",
    "        batch_size=batch_size,\n",
    "        class_mode='categorical',\n",
    "        shuffle=False)\n"
   ]
  },
  {
   "cell_type": "markdown",
   "id": "d92cf490-abee-4e7b-a516-667b6230d609",
   "metadata": {},
   "source": [
    "---\n",
    "<h3>Matriz de Confusión Transfer Learning</h3>\n",
    "Como podemos ver si comparamos los resultados obtenidos por la matriz de confusión del modelo entrenado a través de transfer learning con el modelo básico los resultados mejoran mucho obteniendo algunas confusiones solo en las categorías mas similares y siendo estos muy pocos."
   ]
  },
  {
   "cell_type": "code",
   "execution_count": 37,
   "id": "05286636-5b3c-458d-873a-83442d8fec31",
   "metadata": {},
   "outputs": [
    {
     "data": {
      "image/png": "[encoded data removed]",
      "text/plain": [
       "<Figure size 432x288 with 2 Axes>"
      ]
     },
     "metadata": {
      "needs_background": "light"
     },
     "output_type": "display_data"
    }
   ],
   "source": [
    "CLASSES = ['bed', 'chair', 'sofa', 'swivelchair', 'table']\n",
    "\n",
    "model = tensorflow.keras.models.load_model(\"./modeloFE_CEPB_PVL2.h5\")\n",
    "\n",
    "Y_pred = model.predict(validation_generator, 446)\n",
    "y_pred =np.argmax(Y_pred, axis=1)\n",
    "\n",
    "cm = confusion_matrix(validation_generator.classes, y_pred)\n",
    "cm_display = ConfusionMatrixDisplay(cm, display_labels=CLASSES).plot()"
   ]
  },
  {
   "cell_type": "markdown",
   "id": "a82360d9-1386-450e-ac83-184b0baf79e6",
   "metadata": {},
   "source": [
    "---------------------------------------------------------------------------------------\n",
    "<h3>Matriz de Confusión Modelo Básico</h3>\n"
   ]
  },
  {
   "cell_type": "code",
   "execution_count": 38,
   "id": "c9788878-7bbd-4f35-8e06-b63e7a122912",
   "metadata": {},
   "outputs": [
    {
     "data": {
      "image/png": "[encoded data removed]",
      "text/plain": [
       "<Figure size 432x288 with 2 Axes>"
      ]
     },
     "metadata": {
      "needs_background": "light"
     },
     "output_type": "display_data"
    }
   ],
   "source": [
    "model = tensorflow.keras.models.load_model(\"./modelo4_CEPB_PVL2.h5\")\n",
    "\n",
    "Y_pred = model.predict(validation_generator, 446)\n",
    "y_pred =np.argmax(Y_pred, axis=1)\n",
    "\n",
    "cm = confusion_matrix(validation_generator.classes, y_pred)\n",
    "cm_display = ConfusionMatrixDisplay(cm, display_labels=CLASSES).plot()"
   ]
  },
  {
   "cell_type": "markdown",
   "id": "a6e975ad-bf65-4286-86d2-82be840f935d",
   "metadata": {},
   "source": [
    "--------------------------------------------------------------------------------------------------\n",
    "<h1>Modelo Básico sin Transfer Learning</h1>\n",
    "<h2>Importar librerias</h2>"
   ]
  },
  {
   "cell_type": "code",
   "execution_count": 10,
   "id": "36842fd0-9d68-4acf-8584-3e2bd647e43c",
   "metadata": {
    "tags": []
   },
   "outputs": [
    {
     "name": "stdout",
     "output_type": "stream",
     "text": [
      "End Import keras\n"
     ]
    }
   ],
   "source": [
    "# IMPORT KERAS\n",
    "\n",
    "from tensorflow.keras.preprocessing.image import ImageDataGenerator\n",
    "from tensorflow.keras.models import Sequential\n",
    "from tensorflow.keras.layers import Dense, Dropout\n",
    "from tensorflow.keras.optimizers import RMSprop\n",
    "from tensorflow.keras.layers import Dense, Dropout, Flatten\n",
    "from tensorflow.keras.layers import Conv2D, MaxPooling2D\n",
    "from tensorflow.keras.callbacks import EarlyStopping\n",
    "from tensorflow.keras import backend as K\n",
    "import tensorflow.keras\n",
    "from time import time\n",
    "\n",
    "print(\"End Import keras\")"
   ]
  },
  {
   "cell_type": "markdown",
   "id": "7af17a48-d7a5-4fcb-8737-37ac710635d0",
   "metadata": {},
   "source": [
    "--------------------------------------------------------------------------------------------------\n",
    "<h2>Cargar conjunto de entrenamiento</h2>"
   ]
  },
  {
   "cell_type": "code",
   "execution_count": 11,
   "id": "9cfe6475-35f6-4bda-8c28-f71af86aa810",
   "metadata": {},
   "outputs": [
    {
     "name": "stdout",
     "output_type": "stream",
     "text": [
      "Found 4024 images belonging to 5 classes.\n",
      "Found 518 images belonging to 5 classes.\n",
      "End Data source\n"
     ]
    }
   ],
   "source": [
    "# DATA SOURCE --------------------------------------------------\n",
    "\n",
    "batch_size = 20\n",
    "\n",
    "train_data_dir = './Desktop/RedesNeuronales/images/train'\n",
    "validation_data_dir = './Desktop/RedesNeuronales/images/test'\n",
    "\n",
    "train_datagen = ImageDataGenerator(\n",
    "        rescale=1./255,\n",
    "        rotation_range=15,\n",
    "        zoom_range=0.1\n",
    ")\n",
    "\n",
    "validation_datagen = ImageDataGenerator(\n",
    "        rescale=1./255\n",
    ")\n",
    "\n",
    "train_generator = train_datagen.flow_from_directory(\n",
    "        train_data_dir,\n",
    "        target_size=(150, 150),\n",
    "        batch_size=batch_size,\n",
    "        class_mode='categorical')\n",
    "\n",
    "validation_generator = validation_datagen.flow_from_directory(\n",
    "        validation_data_dir,\n",
    "        target_size=(150, 150),\n",
    "        batch_size=batch_size,\n",
    "        class_mode='categorical')\n",
    "\n",
    "print(\"End Data source\")"
   ]
  },
  {
   "cell_type": "markdown",
   "id": "a9a2fbf7-da2c-4f08-833c-8b1cd18705b2",
   "metadata": {},
   "source": [
    "--------------------------------------------------------------------------------------------------\n",
    "<h2>Configuracíon de la Red Neuronal</h2>\n",
    "\n",
    "<p align=\"center\">\n",
    "Partiendo del modelo inicial que tiene la seguiente configuración, añadiremos alguna capa nueva y modificaremos algunos hiperparametros para buscar un mejor resultado.\n",
    "</p>\n",
    "\n",
    "<ul>\n",
    "    <li>La entrada es un tensor que representa cada pixel de la imagen en código RGB</li>\n",
    "    <li>Luego tendremos una primera capa convolutiva de 32 filtros</li>\n",
    "    <li>En la segunda capa convolutiva de 64 filtros extraeremos carácteristicas cada vez mas complejas</li>\n",
    "    <li>Con maxpooling eliminamos información poco relevante agrupando en regiones y quedandonos con la celda de mayor valor</li>\n",
    "    <li>Utilizando dropout conseguimos reducir el sobreentrenamiento desactivando de manera aleatoria algunas neuronas durante el entrenamiento\n",
    "    </li>\n",
    "    <li>Para terminar en la capa fully conected convertimos el tensor en un vector y lo conectamos con la salida</li>\n",
    "</ul>\n",
    "\n",
    "<img src=\"red_neuronal.PNG\" width=\"750\" height=\"600\">\n"
   ]
  },
  {
   "cell_type": "code",
   "execution_count": 12,
   "id": "360412be-b1ea-4e3a-b24a-3ddd9cd63c65",
   "metadata": {},
   "outputs": [
    {
     "name": "stdout",
     "output_type": "stream",
     "text": [
      "End Model\n"
     ]
    }
   ],
   "source": [
    "# MODEL --------------------------------------------------\n",
    "\n",
    "model = Sequential()\n",
    "model.add(Conv2D(32, kernel_size=(3, 3),\n",
    "                 activation='relu',\n",
    "                 input_shape=(150, 150, 3)))\n",
    "model.add(Conv2D(64, (3, 3), activation='relu'))\n",
    "model.add(MaxPooling2D(pool_size=(2, 2)))\n",
    "model.add(Dropout(0.25))\n",
    "model.add(Flatten())\n",
    "model.add(Dense(128, activation='relu'))\n",
    "\n",
    "model.add(Dropout(0.5))\n",
    "model.add(Dense(5, activation='softmax'))\n",
    "\n",
    "model.compile(loss=tensorflow.keras.losses.categorical_crossentropy,\n",
    "              optimizer=tensorflow.keras.optimizers.Adadelta(),\n",
    "              metrics=['accuracy'])\n",
    "\n",
    "print(\"End Model\")"
   ]
  },
  {
   "cell_type": "markdown",
   "id": "5bf092d3-3fe4-4b4d-85a4-e211f70833d6",
   "metadata": {},
   "source": [
    "---------------------------------------------------------------------------\n",
    "<h1>Sumario</h1>"
   ]
  },
  {
   "cell_type": "code",
   "execution_count": 13,
   "id": "42284e4a-5a18-48d5-9985-bca8b76b1ab3",
   "metadata": {},
   "outputs": [
    {
     "name": "stdout",
     "output_type": "stream",
     "text": [
      "Model: \"sequential\"\n",
      "_________________________________________________________________\n",
      "Layer (type)                 Output Shape              Param #   \n",
      "=================================================================\n",
      "conv2d (Conv2D)              (None, 148, 148, 32)      896       \n",
      "_________________________________________________________________\n",
      "conv2d_1 (Conv2D)            (None, 146, 146, 64)      18496     \n",
      "_________________________________________________________________\n",
      "max_pooling2d (MaxPooling2D) (None, 73, 73, 64)        0         \n",
      "_________________________________________________________________\n",
      "dropout (Dropout)            (None, 73, 73, 64)        0         \n",
      "_________________________________________________________________\n",
      "flatten (Flatten)            (None, 341056)            0         \n",
      "_________________________________________________________________\n",
      "dense (Dense)                (None, 128)               43655296  \n",
      "_________________________________________________________________\n",
      "dropout_1 (Dropout)          (None, 128)               0         \n",
      "_________________________________________________________________\n",
      "dense_1 (Dense)              (None, 5)                 645       \n",
      "=================================================================\n",
      "Total params: 43,675,333\n",
      "Trainable params: 43,675,333\n",
      "Non-trainable params: 0\n",
      "_________________________________________________________________\n",
      "End Summary\n"
     ]
    }
   ],
   "source": [
    "# MODEL SUMMARY--------------------------------------------------\n",
    "\n",
    "model.summary()\n",
    "print(\"End Summary\")"
   ]
  },
  {
   "cell_type": "markdown",
   "id": "d722d7c4-f27a-4e6b-8fae-31103c27eedb",
   "metadata": {},
   "source": [
    "-----------------------------------------------------------------------\n",
    "<h2>Entrenamiento</h2>"
   ]
  },
  {
   "cell_type": "code",
   "execution_count": 14,
   "id": "2e78d0f2-b92a-4d41-8c2a-0d1bcb94990a",
   "metadata": {},
   "outputs": [
    {
     "name": "stderr",
     "output_type": "stream",
     "text": [
      "C:\\Users\\carlo\\anaconda3\\envs\\tensorflow25\\lib\\site-packages\\tensorflow\\python\\keras\\engine\\training.py:1940: UserWarning: `Model.fit_generator` is deprecated and will be removed in a future version. Please use `Model.fit`, which supports generators.\n",
      "  warnings.warn('`Model.fit_generator` is deprecated and '\n"
     ]
    },
    {
     "name": "stdout",
     "output_type": "stream",
     "text": [
      "Epoch 1/20\n",
      "200/200 [==============================] - 29s 113ms/step - loss: 1.5204 - accuracy: 0.3504 - val_loss: 1.4802 - val_accuracy: 0.4498\n",
      "Epoch 2/20\n",
      "200/200 [==============================] - 20s 99ms/step - loss: 1.4104 - accuracy: 0.4395 - val_loss: 1.4112 - val_accuracy: 0.4305\n",
      "Epoch 3/20\n",
      "200/200 [==============================] - 20s 99ms/step - loss: 1.3276 - accuracy: 0.4970 - val_loss: 1.3304 - val_accuracy: 0.4942\n",
      "Epoch 4/20\n",
      "200/200 [==============================] - 20s 99ms/step - loss: 1.2811 - accuracy: 0.5053 - val_loss: 1.2869 - val_accuracy: 0.4961\n",
      "Epoch 5/20\n",
      "200/200 [==============================] - 20s 98ms/step - loss: 1.2320 - accuracy: 0.5356 - val_loss: 1.2441 - val_accuracy: 0.5405\n",
      "Epoch 6/20\n",
      "200/200 [==============================] - 20s 99ms/step - loss: 1.2165 - accuracy: 0.5399 - val_loss: 1.2394 - val_accuracy: 0.5174\n",
      "Epoch 7/20\n",
      "200/200 [==============================] - 20s 99ms/step - loss: 1.1753 - accuracy: 0.5560 - val_loss: 1.2055 - val_accuracy: 0.5367\n",
      "Epoch 8/20\n",
      "200/200 [==============================] - 20s 99ms/step - loss: 1.1593 - accuracy: 0.5688 - val_loss: 1.1898 - val_accuracy: 0.5328\n",
      "Restoring model weights from the end of the best epoch.\n",
      "Epoch 00008: early stopping\n",
      "End Save\n"
     ]
    }
   ],
   "source": [
    "# TRAINING --------------------------------------------------\n",
    "\n",
    "epochs = 20\n",
    "\n",
    "es = EarlyStopping(monitor='val_accuracy', mode='max', verbose=1, patience=3, restore_best_weights=True)\n",
    "\n",
    "history = model.fit_generator(\n",
    "        train_generator,\n",
    "        steps_per_epoch=200,\n",
    "        epochs=epochs,\n",
    "        validation_data = validation_generator,\n",
    "        callbacks = [es]\n",
    ")\n",
    "\n",
    "\n",
    "# SAVING --------------------------------------------------\n",
    "\n",
    "model.save(\"modelo4_CEPB_PVL2.h5\")\n",
    "print(\"End Save\")"
   ]
  },
  {
   "cell_type": "markdown",
   "id": "a9b72436-a4ae-4571-961e-fbff8bc9d114",
   "metadata": {},
   "source": [
    "----------------------------------------------------------\n",
    "<h2>Gráficas del Modelo</h2>"
   ]
  },
  {
   "cell_type": "code",
   "execution_count": 15,
   "id": "575dd982-cbcc-42cb-add8-aeaccfa09390",
   "metadata": {},
   "outputs": [
    {
     "data": {
      "image/png": "[encoded data removed]",
      "text/plain": [
       "<Figure size 432x288 with 1 Axes>"
      ]
     },
     "metadata": {
      "needs_background": "light"
     },
     "output_type": "display_data"
    },
    {
     "data": {
      "image/png": "[encoded data removed]",
      "text/plain": [
       "<Figure size 432x288 with 1 Axes>"
      ]
     },
     "metadata": {
      "needs_background": "light"
     },
     "output_type": "display_data"
    }
   ],
   "source": [
    "import matplotlib.pyplot as plt\n",
    "\n",
    "plt.plot(history.history['loss'], color='yellow')\n",
    "plt.plot(history.history['val_loss'], color='blue')\n",
    "plt.title('LOSS HISTORY')\n",
    "plt.ylabel('Loss')\n",
    "plt.xlabel('Epoch')\n",
    "plt.legend(['train', 'test'])\n",
    "plt.show()\n",
    "\n",
    "plt.plot(history.history['accuracy'], color='yellow')\n",
    "plt.plot(history.history['val_accuracy'], color='blue')\n",
    "plt.title('ACCURACY HISTORY')\n",
    "plt.ylabel('Accuracy')\n",
    "plt.xlabel('Epoch')\n",
    "plt.legend(['train', 'test'])\n",
    "plt.show()"
   ]
  },
  {
   "cell_type": "markdown",
   "id": "2aa68746-30e4-42f6-adec-2af532f459fe",
   "metadata": {},
   "source": [
    "---------------------------------------------------------------------------------------\n",
    "<h1>Matriz de confusión</h1>\n",
    "\n",
    "Para ver mejor el funcionamiento de nuestro modelo final utilizamos una matriz de confusión la cual nos permite ver mejor la relación de los valores resultado de las predicciones con los valores reales, sabiendo así el grado de acierto, de falsos positivos y  falsos negativos.\n",
    "</br></br>\n",
    "Como vemos en la matriz de cofusión buscamos que los valores de la esquina superior izquierda sean los mal altos posibles ya que estos definen los verdaderos positivos, lo que quiere decir esto es que la predicción concuerda con el resultado."
   ]
  },
  {
   "cell_type": "code",
   "execution_count": 18,
   "id": "b33c3b6f-dbe8-4d33-83e8-562a161686bb",
   "metadata": {},
   "outputs": [
    {
     "name": "stdout",
     "output_type": "stream",
     "text": [
      "Found 518 images belonging to 5 classes.\n"
     ]
    },
    {
     "data": {
      "image/png": "[encoded data removed]",
      "text/plain": [
       "<Figure size 432x288 with 2 Axes>"
      ]
     },
     "metadata": {
      "needs_background": "light"
     },
     "output_type": "display_data"
    }
   ],
   "source": [
    "from sklearn.metrics import classification_report\n",
    "from sklearn.metrics import confusion_matrix\n",
    "from sklearn.metrics import ConfusionMatrixDisplay\n",
    "import numpy as np\n",
    "\n",
    "validation_generator = validation_datagen.flow_from_directory(\n",
    "        validation_data_dir,\n",
    "        target_size=(150, 150),\n",
    "        batch_size=batch_size,\n",
    "        class_mode='categorical',\n",
    "        shuffle=False)\n",
    "\n",
    "Y_pred = model.predict(validation_generator, 446)\n",
    "y_pred =np.argmax(Y_pred, axis=1)\n",
    "\n",
    "CLASSES = ['bed', 'chair', 'sofa', 'swivelchair', 'table']\n",
    "\n",
    "cm = confusion_matrix(validation_generator.classes, y_pred)\n",
    "cm_display = ConfusionMatrixDisplay(cm, display_labels=CLASSES).plot()"
   ]
  }
 ],
 "metadata": {
  "kernelspec": {
   "display_name": "Python 3",
   "language": "python",
   "name": "python3"
  },
  "language_info": {
   "codemirror_mode": {
    "name": "ipython",
    "version": 3
   },
   "file_extension": ".py",
   "mimetype": "text/x-python",
   "name": "python",
   "nbconvert_exporter": "python",
   "pygments_lexer": "ipython3",
   "version": "3.8.10"
  }
 },
 "nbformat": 4,
 "nbformat_minor": 5
}
